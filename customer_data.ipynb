{
 "cells": [
  {
   "cell_type": "markdown",
   "id": "6264c6c2",
   "metadata": {},
   "source": [
    "# 🧹 Data Cleaning and Preprocessing\n",
    "This notebook demonstrates how to clean and preprocess a customer dataset step-by-step using Python and Pandas."
   ]
  },
  {
   "cell_type": "code",
   "execution_count": null,
   "id": "6a6dea8e",
   "metadata": {},
   "outputs": [],
   "source": [
    "# Step 1: Import Required Libraries\n",
    "import pandas as pd"
   ]
  },
  {
   "cell_type": "code",
   "execution_count": null,
   "id": "614603d1",
   "metadata": {},
   "outputs": [],
   "source": [
    "# Step 2: Load the Dataset\n",
    "df = pd.read_csv(\"customer.csv\")  # Ensure the file is in the same directory\n",
    "df.head()"
   ]
  },
  {
   "cell_type": "code",
   "execution_count": null,
   "id": "de7c2f66",
   "metadata": {},
   "outputs": [],
   "source": [
    "# Step 3: View Basic Information\n",
    "print(\"Initial Data Info:\")\n",
    "print(df.info())"
   ]
  },
  {
   "cell_type": "code",
   "execution_count": null,
   "id": "cf329f36",
   "metadata": {},
   "outputs": [],
   "source": [
    "# Step 4: Standardize Column Headers\n",
    "df.columns = df.columns.str.strip().str.lower().str.replace(\" \", \"_\")\n",
    "df.head()"
   ]
  },
  {
   "cell_type": "code",
   "execution_count": null,
   "id": "12ac976d",
   "metadata": {},
   "outputs": [],
   "source": [
    "# Step 5: Handle Missing Values\n",
    "print(\"Missing values before cleaning:\")\n",
    "print(df.isnull().sum())\n",
    "\n",
    "# Drop rows with missing 'age'\n",
    "df = df.dropna(subset=['age'])"
   ]
  },
  {
   "cell_type": "code",
   "execution_count": null,
   "id": "8c3dae85",
   "metadata": {},
   "outputs": [],
   "source": [
    "# Step 6: Convert 'age' to Integer\n",
    "df['age'] = df['age'].astype(int)"
   ]
  },
  {
   "cell_type": "code",
   "execution_count": null,
   "id": "fee8622a",
   "metadata": {},
   "outputs": [],
   "source": [
    "# Step 7: Standardize 'gender' and 'country_name'\n",
    "df['gender'] = df['gender'].str.strip().str.lower()\n",
    "df['country_name'] = df['country_name'].str.strip().str.title()\n",
    "df['country_name'] = df['country_name'].replace({\n",
    "    'Usa': 'United States',\n",
    "    'United States': 'United States',\n",
    "    'United states': 'United States'\n",
    "})"
   ]
  },
  {
   "cell_type": "code",
   "execution_count": null,
   "id": "a97c6452",
   "metadata": {},
   "outputs": [],
   "source": [
    "# Step 8: Convert 'registration_date' to datetime\n",
    "df['registration_date'] = pd.to_datetime(df['registration_date'], dayfirst=True, errors='coerce')"
   ]
  },
  {
   "cell_type": "code",
   "execution_count": null,
   "id": "a9336a1a",
   "metadata": {},
   "outputs": [],
   "source": [
    "# Step 9: Remove Duplicate Rows\n",
    "df = df.drop_duplicates()"
   ]
  },
  {
   "cell_type": "code",
   "execution_count": null,
   "id": "7372f0a3",
   "metadata": {},
   "outputs": [],
   "source": [
    "# Step 10: Final Overview and Save\n",
    "print(\"Final Data Info:\")\n",
    "print(df.info())\n",
    "df.to_csv(\"customer_cleaned.csv\", index=False)\n",
    "print(\"✅ Cleaned data saved as 'customer_cleaned.csv'\")"
   ]
  }
 ],
 "metadata": {},
 "nbformat": 4,
 "nbformat_minor": 5
}
